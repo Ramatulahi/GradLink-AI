{
 "cells": [
  {
   "cell_type": "code",
   "id": "initial_id",
   "metadata": {
    "collapsed": true,
    "ExecuteTime": {
     "end_time": "2025-05-25T23:29:37.354899Z",
     "start_time": "2025-05-25T23:28:17.131619Z"
    }
   },
   "source": [
    "import numpy as np\n",
    "import json\n",
    "from sentence_transformers import SentenceTransformer, util"
   ],
   "outputs": [],
   "execution_count": 2
  },
  {
   "metadata": {
    "ExecuteTime": {
     "end_time": "2025-05-25T23:47:24.080799Z",
     "start_time": "2025-05-25T23:47:24.070813Z"
    }
   },
   "cell_type": "code",
   "source": [
    "DATA_FILE = 'dummy_chatbot_data.json'\n",
    "\n",
    "with open(DATA_FILE, 'r') as f:\n",
    "    data = json.load(f)"
   ],
   "id": "6c7e2a7192810618",
   "outputs": [],
   "execution_count": 4
  },
  {
   "metadata": {
    "ExecuteTime": {
     "end_time": "2025-05-25T23:48:22.303832Z",
     "start_time": "2025-05-25T23:48:12.257942Z"
    }
   },
   "cell_type": "code",
   "source": "model = SentenceTransformer('all-MiniLM-L6-v2')",
   "id": "cbd006a860b43214",
   "outputs": [],
   "execution_count": 5
  },
  {
   "metadata": {
    "ExecuteTime": {
     "end_time": "2025-05-26T11:25:23.654883Z",
     "start_time": "2025-05-26T11:25:22.541656Z"
    }
   },
   "cell_type": "code",
   "source": [
    "all_questions = []\n",
    "question_to_intent_map = []\n",
    "\n",
    "for intent_data in data:\n",
    "    intent_name = intent_data['intent']\n",
    "    answer_text = intent_data['answer']\n",
    "    for question_text in intent_data['questions']:\n",
    "        all_questions.append(question_text)\n",
    "        question_to_intent_map.append({\n",
    "            \"intent\": intent_name,\n",
    "            \"question_text\": question_text, # Storing for debugging/verification\n",
    "            \"answer\": answer_text\n",
    "        })\n",
    "question_embeddings = model.encode(all_questions, convert_to_tensor=True, show_progress_bar=True)"
   ],
   "id": "b0dc8be769111a2a",
   "outputs": [
    {
     "data": {
      "text/plain": [
       "Batches:   0%|          | 0/2 [00:00<?, ?it/s]"
      ],
      "application/vnd.jupyter.widget-view+json": {
       "version_major": 2,
       "version_minor": 0,
       "model_id": "cc53b1a15b794334b5d2627755a3b472"
      }
     },
     "metadata": {},
     "output_type": "display_data"
    }
   ],
   "execution_count": 26
  },
  {
   "metadata": {
    "ExecuteTime": {
     "end_time": "2025-05-26T11:25:08.221983Z",
     "start_time": "2025-05-26T11:25:08.209566Z"
    }
   },
   "cell_type": "code",
   "source": [
    "def get_chatbot_response(user_query, similarity_threshold=0.7):\n",
    "    if not user_query.strip():\n",
    "        return 'Please ask me a question!'\n",
    "    \n",
    "    query_embedding = model.encode(user_query, convert_to_tensor=True)\n",
    "    cosine_scores = util.pytorch_cos_sim(query_embedding, question_embeddings)[0]\n",
    "    \n",
    "    most_similar_idx = np.argmax(cosine_scores.cpu().numpy())\n",
    "    best_score = cosine_scores[most_similar_idx].item()\n",
    "    \n",
    "    print(f\"\\nUser: {user_query}\")\n",
    "\n",
    "    if best_score >= similarity_threshold:\n",
    "        # If a good match is found, return the answer associated with that intent\n",
    "        matched_data = question_to_intent_map[most_similar_idx]\n",
    "        return matched_data['answer']\n",
    "    else:\n",
    "        # If no good match, provide a fallback\n",
    "        return \"I'm sorry, I don't quite understand your question. Could you please rephrase it or ask something different?\"\n"
   ],
   "id": "a223c0978c8c0776",
   "outputs": [],
   "execution_count": 24
  },
  {
   "metadata": {
    "ExecuteTime": {
     "end_time": "2025-05-26T11:35:27.493608Z",
     "start_time": "2025-05-26T11:34:30.983799Z"
    }
   },
   "cell_type": "code",
   "source": [
    "if __name__ == \"__main__\":\n",
    "    print(\"\\nGradLink AI Chat Assistant (Type 'quit' to exit)\")\n",
    "    print(\"-\" * 40)\n",
    "\n",
    "    while True:\n",
    "        user_input = input(\"You: \")\n",
    "        if user_input.lower() == 'quit':\n",
    "            print(\"Chatbot: Goodbye! Have a great day.\")\n",
    "            break\n",
    "        \n",
    "        response = get_chatbot_response(user_input)\n",
    "        print(f\"Chatbot: {response}\")\n",
    "        print(\"-\" * 40) # Separator for clarity"
   ],
   "id": "560fea9ad4b26344",
   "outputs": [
    {
     "name": "stdout",
     "output_type": "stream",
     "text": [
      "\n",
      "GradLink AI Chat Assistant (Type 'quit' to exit)\n",
      "----------------------------------------\n",
      "\n",
      "User: how do I get a schorlaship\n",
      "Chatbot: I'm sorry, I don't quite understand your question. Could you please rephrase it or ask something different?\n",
      "----------------------------------------\n",
      "\n",
      "User: how do I get scholarship\n",
      "Chatbot: To find scholarships and funding, explore your university's scholarship board, check government scholarship schemes (e.g., PTDF, NNPC), visit reputable scholarship websites (e.g., Scholars4Dev, Opportunity Desk), and look into corporate sponsorships. Networking and excellent academic performance are key.\n",
      "----------------------------------------\n",
      "Chatbot: Goodbye! Have a great day.\n"
     ]
    }
   ],
   "execution_count": 27
  },
  {
   "metadata": {},
   "cell_type": "code",
   "outputs": [],
   "execution_count": null,
   "source": "",
   "id": "3ec4e817126001c"
  }
 ],
 "metadata": {
  "kernelspec": {
   "display_name": "Python 3",
   "language": "python",
   "name": "python3"
  },
  "language_info": {
   "codemirror_mode": {
    "name": "ipython",
    "version": 2
   },
   "file_extension": ".py",
   "mimetype": "text/x-python",
   "name": "python",
   "nbconvert_exporter": "python",
   "pygments_lexer": "ipython2",
   "version": "2.7.6"
  }
 },
 "nbformat": 4,
 "nbformat_minor": 5
}
