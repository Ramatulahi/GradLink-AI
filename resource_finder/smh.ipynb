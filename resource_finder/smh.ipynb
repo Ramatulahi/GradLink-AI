{
 "cells": [
  {
   "cell_type": "code",
   "id": "initial_id",
   "metadata": {
    "collapsed": true,
    "ExecuteTime": {
     "end_time": "2025-05-25T20:38:18.228916Z",
     "start_time": "2025-05-25T20:38:18.219417Z"
    }
   },
   "source": [
    "import json\n",
    "from sentence_transformers import SentenceTransformer, util\n",
    "import numpy as np\n",
    "from collections import defaultdict"
   ],
   "outputs": [],
   "execution_count": 18
  },
  {
   "metadata": {
    "ExecuteTime": {
     "end_time": "2025-05-25T19:01:20.076543Z",
     "start_time": "2025-05-25T19:01:20.066907Z"
    }
   },
   "cell_type": "code",
   "source": [
    "DATA_FILE = 'data_dummy.json'\n",
    "with open(DATA_FILE, 'r') as f:\n",
    "    courses_data = json.load(f)"
   ],
   "id": "cb78c4ae5c87fce4",
   "outputs": [],
   "execution_count": 4
  },
  {
   "metadata": {
    "ExecuteTime": {
     "end_time": "2025-05-25T18:59:33.547131Z",
     "start_time": "2025-05-25T18:59:24.782449Z"
    }
   },
   "cell_type": "code",
   "source": "model = SentenceTransformer('all-MiniLM-L6-v2')",
   "id": "7ad7c77828fefe0d",
   "outputs": [],
   "execution_count": 3
  },
  {
   "metadata": {
    "ExecuteTime": {
     "end_time": "2025-05-25T19:05:55.480452Z",
     "start_time": "2025-05-25T19:05:53.360658Z"
    }
   },
   "cell_type": "code",
   "source": [
    "course_texts = []\n",
    "course_map = {}\n",
    "\n",
    "\n",
    "for i, course in enumerate(courses_data):\n",
    "    combined_text = f\"{course['course_code']} {course['course_title']} {course['course_description']}\"\n",
    "    course_texts.append(combined_text)\n",
    "    course_map[i] = course\n",
    "    \n",
    "course_embeddings = model.encode(course_texts, convert_to_tensor=True, show_progress_bar=True)\n",
    "    "
   ],
   "id": "9fa15b2d24b6b640",
   "outputs": [
    {
     "data": {
      "text/plain": [
       "Batches:   0%|          | 0/1 [00:00<?, ?it/s]"
      ],
      "application/vnd.jupyter.widget-view+json": {
       "version_major": 2,
       "version_minor": 0,
       "model_id": "0cb65a57658c42888800b1afab111f87"
      }
     },
     "metadata": {},
     "output_type": "display_data"
    }
   ],
   "execution_count": 6
  },
  {
   "metadata": {
    "ExecuteTime": {
     "end_time": "2025-05-25T20:39:53.426705Z",
     "start_time": "2025-05-25T20:39:53.401928Z"
    }
   },
   "cell_type": "code",
   "source": [
    "def find_resources(query, top_k=3, similarity_threshold=0.3):\n",
    "    \"\"\"\n",
    "    Finds the most relevant courses and their resources based on a user query.\n",
    "\n",
    "    Args:\n",
    "        query (str): The user's search query (e.g., \"MTH101\", \"Introduction to Algebra\").\n",
    "        top_k (int): The number of top relevant courses to return.\n",
    "\n",
    "    Returns:\n",
    "        list: A list of dictionaries, each containing course info and its resources.\n",
    "    \"\"\"\n",
    "    query_embedding = model.encode(query, convert_to_tensor=True)\n",
    "    \n",
    "    cosine_scores = util.pytorch_cos_sim(query_embedding, course_embeddings)[0]\n",
    "    top_results_indices = np.argsort(-cosine_scores.cpu().numpy())[:top_k]\n",
    "     \n",
    "     \n",
    "    # Use a defaultdict to automatically create lists for new types\n",
    "    grouped_resources = defaultdict(list)\n",
    "    relevant_courses_found = []\n",
    "\n",
    "    print(f\"\\nSearching for: '{query}'\")\n",
    "    print(\"-\" * 30)\n",
    "\n",
    "    # Iterate through all courses, checking similarity\n",
    "    for idx in top_results_indices:\n",
    "        similarity_score = cosine_scores[idx].item()\n",
    "        course_info = course_map[idx]\n",
    "\n",
    "        if similarity_score >= similarity_threshold:\n",
    "            relevant_courses_found.append({\n",
    "                \"course_code\": course_info['course_code'],\n",
    "                \"course_title\": course_info['course_title'],\n",
    "                \"similarity_score\": f\"{similarity_score:.4f}\"\n",
    "            })\n",
    "            # Add all resources from this relevant course to our grouped_resources\n",
    "            for res in course_info['resources']:\n",
    "                grouped_resources[res['type']].append(res)\n",
    "        # We can stop after finding top_k relevant courses\n",
    "        if len(relevant_courses_found) >= top_k:\n",
    "            break\n",
    "    \n",
    "    # --- Print Section for Console Demo ---\n",
    "    if not relevant_courses_found:\n",
    "        print(\"  No highly relevant courses found for this query.\")\n",
    "        print(\"  Consider adjusting the query or similarity_threshold.\")\n",
    "        return {} # Return empty dictionary if no relevant resources\n",
    "\n",
    "\n",
    "    if not grouped_resources:\n",
    "        print(\"  No resources found for the relevant courses.\")\n",
    "    else:\n",
    "        # Define a display order for resource types for consistency\n",
    "        display_order = ['youtube_video', 'pdf', 'past_question', 'article', 'other']\n",
    "\n",
    "        # Sort grouped_resources by display_order\n",
    "        for res_type in display_order:\n",
    "            if res_type in grouped_resources:\n",
    "                print(f\"\\n[{res_type.replace('_', ' ').title()}]:\")\n",
    "                # Sort resources within each type alphabetically by title for consistency\n",
    "                sorted_res = sorted(grouped_resources[res_type], key=lambda x: x['title'])\n",
    "                for res in sorted_res:\n",
    "                    print(f\"  - {res['title']} (Link: {res['link']})\")\n",
    "        \n",
    "        # Handle any resource types not in display_order\n",
    "        for res_type, resources in grouped_resources.items():\n",
    "            if res_type not in display_order:\n",
    "                print(f\"\\n[{res_type.replace('_', ' ').title()}]:\")\n",
    "                sorted_res = sorted(resources, key=lambda x: x['title'])\n",
    "                for res in sorted_res:\n",
    "                    print(f\"  - {res['title']} (Link: {res['link']})\")\n",
    "                    \n",
    "    # The actual return value for API integration will be the grouped_resources dictionary\n",
    "    return grouped_resources\n"
   ],
   "id": "104cc2f3cce76c34",
   "outputs": [],
   "execution_count": 21
  },
  {
   "metadata": {
    "ExecuteTime": {
     "end_time": "2025-05-25T20:39:55.288950Z",
     "start_time": "2025-05-25T20:39:55.027405Z"
    }
   },
   "cell_type": "code",
   "source": [
    "if __name__ == \"__main__\":\n",
    "    # Test queries - try different formats!\n",
    "    queries = [\n",
    "        \"MTH101\",\n",
    "        \"Introduction to programming\",\n",
    "        \"chemistry basics\",\n",
    "        \"algebra concepts\",\n",
    "        \"human body systems\",\n",
    "        \"laws of thermodynamics\",\n",
    "        \"SIWES application guide\" # This should ideally yield no results or low relevance, showing limitations\n",
    "    ]\n",
    "\n",
    "    for q in queries:\n",
    "        found_resources = find_resources(q, top_k=2) # Adjust top_k as desired\n",
    "        print(\"\\n\" + \"=\" * 50 + \"\\n\") # Separator for clarity\n"
   ],
   "id": "6f74a4d045f22b4b",
   "outputs": [
    {
     "name": "stdout",
     "output_type": "stream",
     "text": [
      "\n",
      "Searching for: 'MTH101'\n",
      "------------------------------\n",
      "\n",
      "[Youtube Video]:\n",
      "  - Algebra for Beginners: Full Course (Link: https://www.youtube.com/watch?v=f_T3x-bL8rE)\n",
      "\n",
      "[Pdf]:\n",
      "  - Trigonometry Basics Notes (Link: https://www.mathsisfun.com/algebra/images/trig-summary.pdf)\n",
      "\n",
      "[Past Question]:\n",
      "  - MTH101 First Semester Exam Questions (Link: https://example.com/mth101_exam_questions.pdf)\n",
      "\n",
      "[Article]:\n",
      "  - Understanding Set Theory (Link: https://www.britannica.com/science/set-theory)\n",
      "\n",
      "==================================================\n",
      "\n",
      "\n",
      "Searching for: 'Introduction to programming'\n",
      "------------------------------\n",
      "\n",
      "[Youtube Video]:\n",
      "  - Algebra for Beginners: Full Course (Link: https://www.youtube.com/watch?v=f_T3x-bL8rE)\n",
      "  - What is Computer Science? (Link: https://www.youtube.com/watch?v=szG2XfT0D6U)\n",
      "\n",
      "[Pdf]:\n",
      "  - Introduction to Algorithms PDF (Link: https://example.com/algorithms_intro.pdf)\n",
      "  - Trigonometry Basics Notes (Link: https://www.mathsisfun.com/algebra/images/trig-summary.pdf)\n",
      "\n",
      "[Past Question]:\n",
      "  - CSC101 Fundamentals Questions (Link: https://example.com/csc101_fundamentals.pdf)\n",
      "  - MTH101 First Semester Exam Questions (Link: https://example.com/mth101_exam_questions.pdf)\n",
      "\n",
      "[Article]:\n",
      "  - How Computers Work (Link: https://www.computer.org/publications/tech-news/computing/how-computers-work-a-beginners-guide)\n",
      "  - Understanding Set Theory (Link: https://www.britannica.com/science/set-theory)\n",
      "\n",
      "==================================================\n",
      "\n",
      "\n",
      "Searching for: 'chemistry basics'\n",
      "------------------------------\n",
      "\n",
      "[Youtube Video]:\n",
      "  - Algebra for Beginners: Full Course (Link: https://www.youtube.com/watch?v=f_T3x-bL8rE)\n",
      "  - Atomic Structure and Periodicity (Link: https://www.youtube.com/watch?v=thnDxFdkzZs)\n",
      "\n",
      "[Pdf]:\n",
      "  - Chemical Bonding Explained (Link: https://chem.libretexts.org/Bookshelves/General_Chemistry/Map%3A_General_Chemistry_(Petrucci_et_al.)/08%3A_Basic_Concepts_of_Chemical_Bonding)\n",
      "  - Trigonometry Basics Notes (Link: https://www.mathsisfun.com/algebra/images/trig-summary.pdf)\n",
      "\n",
      "[Past Question]:\n",
      "  - CHM101 Theory & Objectives Questions (Link: https://example.com/chm101_questions.pdf)\n",
      "  - MTH101 First Semester Exam Questions (Link: https://example.com/mth101_exam_questions.pdf)\n",
      "\n",
      "[Article]:\n",
      "  - Introduction to Stoichiometry (Link: https://www.khanacademy.org/science/chemistry/chemical-reactions-stoichiometry)\n",
      "  - Understanding Set Theory (Link: https://www.britannica.com/science/set-theory)\n",
      "\n",
      "==================================================\n",
      "\n",
      "\n",
      "Searching for: 'algebra concepts'\n",
      "------------------------------\n",
      "\n",
      "[Youtube Video]:\n",
      "  - Algebra for Beginners: Full Course (Link: https://www.youtube.com/watch?v=f_T3x-bL8rE)\n",
      "\n",
      "[Pdf]:\n",
      "  - Trigonometry Basics Notes (Link: https://www.mathsisfun.com/algebra/images/trig-summary.pdf)\n",
      "\n",
      "[Past Question]:\n",
      "  - MTH101 First Semester Exam Questions (Link: https://example.com/mth101_exam_questions.pdf)\n",
      "\n",
      "[Article]:\n",
      "  - Understanding Set Theory (Link: https://www.britannica.com/science/set-theory)\n",
      "\n",
      "==================================================\n",
      "\n",
      "\n",
      "Searching for: 'human body systems'\n",
      "------------------------------\n",
      "\n",
      "[Youtube Video]:\n",
      "  - Human Body Systems Overview (Link: https://www.youtube.com/watch?v=s1Rjm1vS1M0)\n",
      "\n",
      "[Pdf]:\n",
      "  - Anatomy and Physiology Study Guide (Link: https://example.com/anatomy_physiology_guide.pdf)\n",
      "\n",
      "[Past Question]:\n",
      "  - MED201 Anatomy Questions (Link: https://example.com/med201_anatomy.pdf)\n",
      "\n",
      "[Article]:\n",
      "  - How the Circulatory System Works (Link: https://www.innerbody.com/image/cardov.html)\n",
      "\n",
      "==================================================\n",
      "\n",
      "\n",
      "Searching for: 'laws of thermodynamics'\n",
      "------------------------------\n",
      "\n",
      "[Youtube Video]:\n",
      "  - Laws of Thermodynamics Explained (Link: https://www.youtube.com/watch?v=0N3B5f_gNmg)\n",
      "\n",
      "[Pdf]:\n",
      "  - Thermodynamics Formulas Cheatsheet (Link: https://example.com/thermo_formulas.pdf)\n",
      "\n",
      "[Past Question]:\n",
      "  - MEE401 Thermodynamics Test (Link: https://example.com/mee401_test.pdf)\n",
      "\n",
      "[Article]:\n",
      "  - Entropy and the Second Law (Link: https://www.khanacademy.org/science/physics/thermodynamics/laws-of-thermodynamics/a/what-is-entropy)\n",
      "\n",
      "==================================================\n",
      "\n",
      "\n",
      "Searching for: 'SIWES application guide'\n",
      "------------------------------\n",
      "  No highly relevant courses found for this query.\n",
      "  Consider adjusting the query or similarity_threshold.\n",
      "\n",
      "==================================================\n",
      "\n"
     ]
    }
   ],
   "execution_count": 22
  },
  {
   "metadata": {},
   "cell_type": "code",
   "outputs": [],
   "execution_count": null,
   "source": "",
   "id": "8221bf0ab5f576e4"
  }
 ],
 "metadata": {
  "kernelspec": {
   "display_name": "Python 3",
   "language": "python",
   "name": "python3"
  },
  "language_info": {
   "codemirror_mode": {
    "name": "ipython",
    "version": 2
   },
   "file_extension": ".py",
   "mimetype": "text/x-python",
   "name": "python",
   "nbconvert_exporter": "python",
   "pygments_lexer": "ipython2",
   "version": "2.7.6"
  }
 },
 "nbformat": 4,
 "nbformat_minor": 5
}
