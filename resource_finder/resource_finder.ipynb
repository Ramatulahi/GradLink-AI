{
 "cells": [
  {
   "cell_type": "code",
   "id": "initial_id",
   "metadata": {
    "collapsed": true,
    "ExecuteTime": {
     "end_time": "2025-05-24T06:14:34.621860Z",
     "start_time": "2025-05-24T06:14:34.611526Z"
    }
   },
   "source": "from typing import Dict",
   "outputs": [],
   "execution_count": 1
  },
  {
   "metadata": {
    "ExecuteTime": {
     "end_time": "2025-05-24T06:14:37.489454Z",
     "start_time": "2025-05-24T06:14:37.474577Z"
    }
   },
   "cell_type": "code",
   "source": [
    "# Step 1: Define a dictionary of resources\n",
    "RESOURCE_DB = {\n",
    "    \"MAT201\": {\n",
    "        \"title\": \"Integral Calculus for Engineers\",\n",
    "        \"tags\": [\"integration\", \"calculus\", \"engineering math\"],\n",
    "        \"links\": [\"https://youtu.be/calculus1\", \"https://drive.link/integration-pdf\"]\n",
    "    },\n",
    "    \"PHY101\": {\n",
    "        \"title\": \"Mechanics Basics\",\n",
    "        \"tags\": [\"force\", \"motion\", \"kinematics\"],\n",
    "        \"links\": [\"https://youtu.be/mechanics\", \"https://pdf.link/mechanics\"]\n",
    "    },\n",
    "    \"CSC110\": {\n",
    "        \"title\": \"Intro to Programming\",\n",
    "        \"tags\": [\"python\", \"loops\", \"variables\"],\n",
    "        \"links\": [\"https://youtu.be/python\", \"https://docs.link/programming\"]\n",
    "    },\n",
    "}\n"
   ],
   "id": "f0e784d2b1220b97",
   "outputs": [],
   "execution_count": 2
  },
  {
   "metadata": {
    "ExecuteTime": {
     "end_time": "2025-05-24T06:14:39.187510Z",
     "start_time": "2025-05-24T06:14:39.177315Z"
    }
   },
   "cell_type": "code",
   "source": [
    "# Step 2: Create the function\n",
    "def get_resources(course_code: str) -> Dict[str, list]:\n",
    "    course_code = course_code.upper().strip()\n",
    "    return RESOURCE_DB.get(course_code, {\n",
    "        \"YouTube\": [],\n",
    "        \"PDFs\": [],\n",
    "        \"message\": f\"No resources found for {course_code}. Try another course.\"\n",
    "    })"
   ],
   "id": "d395992e7fb3b89e",
   "outputs": [],
   "execution_count": 3
  },
  {
   "metadata": {
    "ExecuteTime": {
     "end_time": "2025-05-24T06:14:44.478402Z",
     "start_time": "2025-05-24T06:14:40.563659Z"
    }
   },
   "cell_type": "code",
   "source": [
    "# Step 3: Demo/test run\n",
    "if __name__ == \"__main__\":\n",
    "    user_input = input(\"Enter course code (e.g., MAT201): \")\n",
    "    result = get_resources(user_input)\n",
    "    print(\"\\nResources Found:\\n\")\n",
    "    for key, links in result.items():\n",
    "        if isinstance(links, list):\n",
    "            print(f\"{key} Links:\")\n",
    "            for link in links:\n",
    "                print(f\" - {link}\")\n",
    "        else:\n",
    "            print(links)"
   ],
   "id": "3687684c70f74c8f",
   "outputs": [
    {
     "ename": "KeyboardInterrupt",
     "evalue": "Interrupted by user",
     "output_type": "error",
     "traceback": [
      "\u001B[1;31m---------------------------------------------------------------------------\u001B[0m",
      "\u001B[1;31mKeyboardInterrupt\u001B[0m                         Traceback (most recent call last)",
      "Cell \u001B[1;32mIn[4], line 3\u001B[0m\n\u001B[0;32m      1\u001B[0m \u001B[38;5;66;03m# Step 3: Demo/test run\u001B[39;00m\n\u001B[0;32m      2\u001B[0m \u001B[38;5;28;01mif\u001B[39;00m \u001B[38;5;18m__name__\u001B[39m \u001B[38;5;241m==\u001B[39m \u001B[38;5;124m\"\u001B[39m\u001B[38;5;124m__main__\u001B[39m\u001B[38;5;124m\"\u001B[39m:\n\u001B[1;32m----> 3\u001B[0m     user_input \u001B[38;5;241m=\u001B[39m \u001B[38;5;28;43minput\u001B[39;49m\u001B[43m(\u001B[49m\u001B[38;5;124;43m\"\u001B[39;49m\u001B[38;5;124;43mEnter course code (e.g., MAT201): \u001B[39;49m\u001B[38;5;124;43m\"\u001B[39;49m\u001B[43m)\u001B[49m\n\u001B[0;32m      4\u001B[0m     result \u001B[38;5;241m=\u001B[39m get_resources(user_input)\n\u001B[0;32m      5\u001B[0m     \u001B[38;5;28mprint\u001B[39m(\u001B[38;5;124m\"\u001B[39m\u001B[38;5;130;01m\\n\u001B[39;00m\u001B[38;5;124mResources Found:\u001B[39m\u001B[38;5;130;01m\\n\u001B[39;00m\u001B[38;5;124m\"\u001B[39m)\n",
      "File \u001B[1;32m~\\AppData\\Local\\Packages\\PythonSoftwareFoundation.Python.3.12_qbz5n2kfra8p0\\LocalCache\\local-packages\\Python312\\site-packages\\ipykernel\\kernelbase.py:1282\u001B[0m, in \u001B[0;36mKernel.raw_input\u001B[1;34m(self, prompt)\u001B[0m\n\u001B[0;32m   1280\u001B[0m     msg \u001B[38;5;241m=\u001B[39m \u001B[38;5;124m\"\u001B[39m\u001B[38;5;124mraw_input was called, but this frontend does not support input requests.\u001B[39m\u001B[38;5;124m\"\u001B[39m\n\u001B[0;32m   1281\u001B[0m     \u001B[38;5;28;01mraise\u001B[39;00m StdinNotImplementedError(msg)\n\u001B[1;32m-> 1282\u001B[0m \u001B[38;5;28;01mreturn\u001B[39;00m \u001B[38;5;28;43mself\u001B[39;49m\u001B[38;5;241;43m.\u001B[39;49m\u001B[43m_input_request\u001B[49m\u001B[43m(\u001B[49m\n\u001B[0;32m   1283\u001B[0m \u001B[43m    \u001B[49m\u001B[38;5;28;43mstr\u001B[39;49m\u001B[43m(\u001B[49m\u001B[43mprompt\u001B[49m\u001B[43m)\u001B[49m\u001B[43m,\u001B[49m\n\u001B[0;32m   1284\u001B[0m \u001B[43m    \u001B[49m\u001B[38;5;28;43mself\u001B[39;49m\u001B[38;5;241;43m.\u001B[39;49m\u001B[43m_parent_ident\u001B[49m\u001B[43m[\u001B[49m\u001B[38;5;124;43m\"\u001B[39;49m\u001B[38;5;124;43mshell\u001B[39;49m\u001B[38;5;124;43m\"\u001B[39;49m\u001B[43m]\u001B[49m\u001B[43m,\u001B[49m\n\u001B[0;32m   1285\u001B[0m \u001B[43m    \u001B[49m\u001B[38;5;28;43mself\u001B[39;49m\u001B[38;5;241;43m.\u001B[39;49m\u001B[43mget_parent\u001B[49m\u001B[43m(\u001B[49m\u001B[38;5;124;43m\"\u001B[39;49m\u001B[38;5;124;43mshell\u001B[39;49m\u001B[38;5;124;43m\"\u001B[39;49m\u001B[43m)\u001B[49m\u001B[43m,\u001B[49m\n\u001B[0;32m   1286\u001B[0m \u001B[43m    \u001B[49m\u001B[43mpassword\u001B[49m\u001B[38;5;241;43m=\u001B[39;49m\u001B[38;5;28;43;01mFalse\u001B[39;49;00m\u001B[43m,\u001B[49m\n\u001B[0;32m   1287\u001B[0m \u001B[43m\u001B[49m\u001B[43m)\u001B[49m\n",
      "File \u001B[1;32m~\\AppData\\Local\\Packages\\PythonSoftwareFoundation.Python.3.12_qbz5n2kfra8p0\\LocalCache\\local-packages\\Python312\\site-packages\\ipykernel\\kernelbase.py:1325\u001B[0m, in \u001B[0;36mKernel._input_request\u001B[1;34m(self, prompt, ident, parent, password)\u001B[0m\n\u001B[0;32m   1322\u001B[0m \u001B[38;5;28;01mexcept\u001B[39;00m \u001B[38;5;167;01mKeyboardInterrupt\u001B[39;00m:\n\u001B[0;32m   1323\u001B[0m     \u001B[38;5;66;03m# re-raise KeyboardInterrupt, to truncate traceback\u001B[39;00m\n\u001B[0;32m   1324\u001B[0m     msg \u001B[38;5;241m=\u001B[39m \u001B[38;5;124m\"\u001B[39m\u001B[38;5;124mInterrupted by user\u001B[39m\u001B[38;5;124m\"\u001B[39m\n\u001B[1;32m-> 1325\u001B[0m     \u001B[38;5;28;01mraise\u001B[39;00m \u001B[38;5;167;01mKeyboardInterrupt\u001B[39;00m(msg) \u001B[38;5;28;01mfrom\u001B[39;00m \u001B[38;5;28;01mNone\u001B[39;00m\n\u001B[0;32m   1326\u001B[0m \u001B[38;5;28;01mexcept\u001B[39;00m \u001B[38;5;167;01mException\u001B[39;00m:\n\u001B[0;32m   1327\u001B[0m     \u001B[38;5;28mself\u001B[39m\u001B[38;5;241m.\u001B[39mlog\u001B[38;5;241m.\u001B[39mwarning(\u001B[38;5;124m\"\u001B[39m\u001B[38;5;124mInvalid Message:\u001B[39m\u001B[38;5;124m\"\u001B[39m, exc_info\u001B[38;5;241m=\u001B[39m\u001B[38;5;28;01mTrue\u001B[39;00m)\n",
      "\u001B[1;31mKeyboardInterrupt\u001B[0m: Interrupted by user"
     ]
    }
   ],
   "execution_count": 4
  },
  {
   "metadata": {
    "ExecuteTime": {
     "end_time": "2025-05-24T06:15:14.058851Z",
     "start_time": "2025-05-24T06:14:45.805233Z"
    }
   },
   "cell_type": "code",
   "source": "from sentence_transformers import SentenceTransformer",
   "id": "2d28a937b104e228",
   "outputs": [],
   "execution_count": 5
  },
  {
   "metadata": {
    "ExecuteTime": {
     "end_time": "2025-05-24T06:15:46.402098Z",
     "start_time": "2025-05-24T06:15:41.079571Z"
    }
   },
   "cell_type": "code",
   "source": "model = SentenceTransformer('all-MiniLM-L6-v2')",
   "id": "7868b34a58fd7ab2",
   "outputs": [],
   "execution_count": 6
  },
  {
   "metadata": {
    "ExecuteTime": {
     "end_time": "2025-05-24T06:16:01.092707Z",
     "start_time": "2025-05-24T06:16:01.075902Z"
    }
   },
   "cell_type": "code",
   "source": [
    "resource_texts = [\n",
    "    # 1. From a YouTube Video Title + Description (e.g., \"Intro to Programming with Python\")\n",
    "    \"Video: Learn Python from scratch! This tutorial covers variables, data types, control flow (loops, conditionals), and basic functions. Ideal for CSC101 and beginners.\",\n",
    "\n",
    "    # 2. From a PDF Lecture Note (e.g., \"Linear Algebra for Engineers\")\n",
    "    \"Lecture Notes: MAT201 - Introduction to Linear Algebra. Topics include vectors, matrices, determinants, eigenvalues, and eigenvectors. Essential for engineering and computer science students.\",\n",
    "\n",
    "    # 3. From a Past Question Document (e.g., \"CSC 411 - Operating Systems Exam Questions\")\n",
    "    \"Past Questions: CSC411 - Operating Systems. Previous exam questions on process management, memory allocation, deadlocks, and file systems. University of Ibadan, 2023.\",\n",
    "\n",
    "    # 4. From an Article/Blog Post (e.g., \"Career Paths in Data Science in Nigeria\")\n",
    "    \"Article: Exploring Data Science careers in Nigeria. Discusses skills needed: Python, R, machine learning, statistics. Roles like Data Analyst, ML Engineer, AI Specialist. Useful for students planning their future.\",\n",
    "\n",
    "    # 5. From a Course Outline (e.g., \"ECO305 - Principles of Econometrics\")\n",
    "    \"Course Outline: ECO305 - Principles of Econometrics. Covers regression analysis, hypothesis testing, time series analysis, and panel data. Prerequisite: Statistics.\",\n",
    "\n",
    "    # 6. From a Scholarship Opportunity Description\n",
    "    \"Scholarship Alert: Shell Undergraduate Scholarship for Nigerian Students. Eligibility: 200L, good academic standing, studying Engineering, Sciences, or Social Sciences. Apply online.\",\n",
    "\n",
    "    # 7. From a SIWES/Internship Guideline Document\n",
    "    \"SIWES Guide: Industrial Training (IT) guidelines for students. How to find placements, logbook requirements, report writing, and supervisor responsibilities. For all engineering and science departments.\",\n",
    "\n",
    "    # 8. From a Specific Book Chapter Summary (e.g., \"Calculus by James Stewart, Chapter 7\")\n",
    "    \"Textbook Chapter: Calculus I - Techniques of Integration. Methods: substitution, integration by parts, trigonometric integrals, partial fractions. For MAT102/103 students.\",\n",
    "\n",
    "    # 9. From a Departmental Handout on Research Project\n",
    "    \"Research Project Guide: Guidelines for final year projects. Topic selection, literature review, methodology, data analysis, ethical considerations. For all 400L students.\",\n",
    "\n",
    "    # 10. From a YouTube Video Transcript Snippet (e.g., a specific section on \"loops\")\n",
    "    \"Video Snippet: This part of the Python tutorial explains 'for' loops and 'while' loops with practical examples. Understanding iterative statements is key for programming logic.\"\n",
    "]"
   ],
   "id": "5a70964a9b891253",
   "outputs": [],
   "execution_count": 7
  },
  {
   "metadata": {
    "ExecuteTime": {
     "end_time": "2025-05-24T06:16:06.283663Z",
     "start_time": "2025-05-24T06:16:04.893Z"
    }
   },
   "cell_type": "code",
   "source": "resource_embeddings = model.encode(resource_texts, convert_to_tensor=True)",
   "id": "33b0564515eaf11",
   "outputs": [],
   "execution_count": 8
  },
  {
   "metadata": {
    "ExecuteTime": {
     "end_time": "2025-05-24T06:16:08.639310Z",
     "start_time": "2025-05-24T06:16:08.621946Z"
    }
   },
   "cell_type": "code",
   "source": "resource_embeddings.shape",
   "id": "c1b3dd51e8864462",
   "outputs": [
    {
     "data": {
      "text/plain": [
       "torch.Size([10, 384])"
      ]
     },
     "execution_count": 9,
     "metadata": {},
     "output_type": "execute_result"
    }
   ],
   "execution_count": 9
  },
  {
   "metadata": {
    "ExecuteTime": {
     "end_time": "2025-05-24T06:16:10.339736Z",
     "start_time": "2025-05-24T06:16:10.324741Z"
    }
   },
   "cell_type": "code",
   "source": "resource_embeddings[0][:5]",
   "id": "cc5ab6ff071d0bbd",
   "outputs": [
    {
     "data": {
      "text/plain": [
       "tensor([-0.0816, -0.0238, -0.0686,  0.0283, -0.0629])"
      ]
     },
     "execution_count": 10,
     "metadata": {},
     "output_type": "execute_result"
    }
   ],
   "execution_count": 10
  },
  {
   "metadata": {
    "ExecuteTime": {
     "end_time": "2025-05-24T06:16:11.904261Z",
     "start_time": "2025-05-24T06:16:11.889642Z"
    }
   },
   "cell_type": "code",
   "source": [
    "from torch.nn.functional import cosine_similarity\n",
    "from scipy.spatial.distance import cosine"
   ],
   "id": "5ccdc807d791bcc8",
   "outputs": [],
   "execution_count": 11
  },
  {
   "metadata": {
    "ExecuteTime": {
     "end_time": "2025-05-24T06:23:49.017243Z",
     "start_time": "2025-05-24T06:23:27.030237Z"
    }
   },
   "cell_type": "code",
   "source": [
    "while True:\n",
    "    user_input = input(\"Enter your query\")\n",
    "    \n",
    "    if user_input == \"exit\":\n",
    "        print(\"Exiting...\")\n",
    "        break\n",
    "    \n",
    "    query_embedding = model.encode(user_input, convert_to_tensor=True)\n",
    "    \n",
    "    similarities = cosine_similarity(query_embedding, resource_embeddings)\n",
    "    \n",
    "    top_n = 3\n",
    "    top_indices = similarities.argsort(descending=True)[:top_n].cpu().numpy()\n",
    "\n",
    "    print(f\"\\nTop {top_n} resources for your query: '{user_input}'\")\n",
    "    print(\"--------------------------------------------------\")\n",
    "    \n",
    "    \n",
    "    for i, idx in enumerate(top_indices):\n",
    "        score = similarities[idx].item() # .item() gets the scalar value from the tensor\n",
    "        print(f\"Rank {i+1} (Similarity: {score:.4f}):\")\n",
    "        print(f\"  Resource Text: {resource_texts[idx]}\")\n",
    "        # In a real app, you'd show a link/title instead of the full text\n",
    "        print(\"-\" * 40)\n",
    "    print(\"\\n\")"
   ],
   "id": "d2497b6e7853038f",
   "outputs": [
    {
     "name": "stdout",
     "output_type": "stream",
     "text": [
      "\n",
      "Top 3 resources for your query: 'ml'\n",
      "--------------------------------------------------\n",
      "Rank 1 (Similarity: 0.1743):\n",
      "  Resource Text: Scholarship Alert: Shell Undergraduate Scholarship for Nigerian Students. Eligibility: 200L, good academic standing, studying Engineering, Sciences, or Social Sciences. Apply online.\n",
      "----------------------------------------\n",
      "Rank 2 (Similarity: 0.1084):\n",
      "  Resource Text: Article: Exploring Data Science careers in Nigeria. Discusses skills needed: Python, R, machine learning, statistics. Roles like Data Analyst, ML Engineer, AI Specialist. Useful for students planning their future.\n",
      "----------------------------------------\n",
      "Rank 3 (Similarity: 0.0900):\n",
      "  Resource Text: Video Snippet: This part of the Python tutorial explains 'for' loops and 'while' loops with practical examples. Understanding iterative statements is key for programming logic.\n",
      "----------------------------------------\n",
      "\n",
      "\n",
      "\n",
      "Top 3 resources for your query: 'ml'\n",
      "--------------------------------------------------\n",
      "Rank 1 (Similarity: 0.1743):\n",
      "  Resource Text: Scholarship Alert: Shell Undergraduate Scholarship for Nigerian Students. Eligibility: 200L, good academic standing, studying Engineering, Sciences, or Social Sciences. Apply online.\n",
      "----------------------------------------\n",
      "Rank 2 (Similarity: 0.1084):\n",
      "  Resource Text: Article: Exploring Data Science careers in Nigeria. Discusses skills needed: Python, R, machine learning, statistics. Roles like Data Analyst, ML Engineer, AI Specialist. Useful for students planning their future.\n",
      "----------------------------------------\n",
      "Rank 3 (Similarity: 0.0900):\n",
      "  Resource Text: Video Snippet: This part of the Python tutorial explains 'for' loops and 'while' loops with practical examples. Understanding iterative statements is key for programming logic.\n",
      "----------------------------------------\n",
      "\n",
      "\n"
     ]
    },
    {
     "ename": "KeyboardInterrupt",
     "evalue": "Interrupted by user",
     "output_type": "error",
     "traceback": [
      "\u001B[1;31m---------------------------------------------------------------------------\u001B[0m",
      "\u001B[1;31mKeyboardInterrupt\u001B[0m                         Traceback (most recent call last)",
      "Cell \u001B[1;32mIn[13], line 2\u001B[0m\n\u001B[0;32m      1\u001B[0m \u001B[38;5;28;01mwhile\u001B[39;00m \u001B[38;5;28;01mTrue\u001B[39;00m:\n\u001B[1;32m----> 2\u001B[0m     user_input \u001B[38;5;241m=\u001B[39m \u001B[38;5;28;43minput\u001B[39;49m\u001B[43m(\u001B[49m\u001B[38;5;124;43m\"\u001B[39;49m\u001B[38;5;124;43mEnter your query\u001B[39;49m\u001B[38;5;124;43m\"\u001B[39;49m\u001B[43m)\u001B[49m\n\u001B[0;32m      4\u001B[0m     \u001B[38;5;28;01mif\u001B[39;00m user_input \u001B[38;5;241m==\u001B[39m \u001B[38;5;124m\"\u001B[39m\u001B[38;5;124mexit\u001B[39m\u001B[38;5;124m\"\u001B[39m:\n\u001B[0;32m      5\u001B[0m         \u001B[38;5;28mprint\u001B[39m(\u001B[38;5;124m\"\u001B[39m\u001B[38;5;124mExiting...\u001B[39m\u001B[38;5;124m\"\u001B[39m)\n",
      "File \u001B[1;32m~\\AppData\\Local\\Packages\\PythonSoftwareFoundation.Python.3.12_qbz5n2kfra8p0\\LocalCache\\local-packages\\Python312\\site-packages\\ipykernel\\kernelbase.py:1282\u001B[0m, in \u001B[0;36mKernel.raw_input\u001B[1;34m(self, prompt)\u001B[0m\n\u001B[0;32m   1280\u001B[0m     msg \u001B[38;5;241m=\u001B[39m \u001B[38;5;124m\"\u001B[39m\u001B[38;5;124mraw_input was called, but this frontend does not support input requests.\u001B[39m\u001B[38;5;124m\"\u001B[39m\n\u001B[0;32m   1281\u001B[0m     \u001B[38;5;28;01mraise\u001B[39;00m StdinNotImplementedError(msg)\n\u001B[1;32m-> 1282\u001B[0m \u001B[38;5;28;01mreturn\u001B[39;00m \u001B[38;5;28;43mself\u001B[39;49m\u001B[38;5;241;43m.\u001B[39;49m\u001B[43m_input_request\u001B[49m\u001B[43m(\u001B[49m\n\u001B[0;32m   1283\u001B[0m \u001B[43m    \u001B[49m\u001B[38;5;28;43mstr\u001B[39;49m\u001B[43m(\u001B[49m\u001B[43mprompt\u001B[49m\u001B[43m)\u001B[49m\u001B[43m,\u001B[49m\n\u001B[0;32m   1284\u001B[0m \u001B[43m    \u001B[49m\u001B[38;5;28;43mself\u001B[39;49m\u001B[38;5;241;43m.\u001B[39;49m\u001B[43m_parent_ident\u001B[49m\u001B[43m[\u001B[49m\u001B[38;5;124;43m\"\u001B[39;49m\u001B[38;5;124;43mshell\u001B[39;49m\u001B[38;5;124;43m\"\u001B[39;49m\u001B[43m]\u001B[49m\u001B[43m,\u001B[49m\n\u001B[0;32m   1285\u001B[0m \u001B[43m    \u001B[49m\u001B[38;5;28;43mself\u001B[39;49m\u001B[38;5;241;43m.\u001B[39;49m\u001B[43mget_parent\u001B[49m\u001B[43m(\u001B[49m\u001B[38;5;124;43m\"\u001B[39;49m\u001B[38;5;124;43mshell\u001B[39;49m\u001B[38;5;124;43m\"\u001B[39;49m\u001B[43m)\u001B[49m\u001B[43m,\u001B[49m\n\u001B[0;32m   1286\u001B[0m \u001B[43m    \u001B[49m\u001B[43mpassword\u001B[49m\u001B[38;5;241;43m=\u001B[39;49m\u001B[38;5;28;43;01mFalse\u001B[39;49;00m\u001B[43m,\u001B[49m\n\u001B[0;32m   1287\u001B[0m \u001B[43m\u001B[49m\u001B[43m)\u001B[49m\n",
      "File \u001B[1;32m~\\AppData\\Local\\Packages\\PythonSoftwareFoundation.Python.3.12_qbz5n2kfra8p0\\LocalCache\\local-packages\\Python312\\site-packages\\ipykernel\\kernelbase.py:1325\u001B[0m, in \u001B[0;36mKernel._input_request\u001B[1;34m(self, prompt, ident, parent, password)\u001B[0m\n\u001B[0;32m   1322\u001B[0m \u001B[38;5;28;01mexcept\u001B[39;00m \u001B[38;5;167;01mKeyboardInterrupt\u001B[39;00m:\n\u001B[0;32m   1323\u001B[0m     \u001B[38;5;66;03m# re-raise KeyboardInterrupt, to truncate traceback\u001B[39;00m\n\u001B[0;32m   1324\u001B[0m     msg \u001B[38;5;241m=\u001B[39m \u001B[38;5;124m\"\u001B[39m\u001B[38;5;124mInterrupted by user\u001B[39m\u001B[38;5;124m\"\u001B[39m\n\u001B[1;32m-> 1325\u001B[0m     \u001B[38;5;28;01mraise\u001B[39;00m \u001B[38;5;167;01mKeyboardInterrupt\u001B[39;00m(msg) \u001B[38;5;28;01mfrom\u001B[39;00m \u001B[38;5;28;01mNone\u001B[39;00m\n\u001B[0;32m   1326\u001B[0m \u001B[38;5;28;01mexcept\u001B[39;00m \u001B[38;5;167;01mException\u001B[39;00m:\n\u001B[0;32m   1327\u001B[0m     \u001B[38;5;28mself\u001B[39m\u001B[38;5;241m.\u001B[39mlog\u001B[38;5;241m.\u001B[39mwarning(\u001B[38;5;124m\"\u001B[39m\u001B[38;5;124mInvalid Message:\u001B[39m\u001B[38;5;124m\"\u001B[39m, exc_info\u001B[38;5;241m=\u001B[39m\u001B[38;5;28;01mTrue\u001B[39;00m)\n",
      "\u001B[1;31mKeyboardInterrupt\u001B[0m: Interrupted by user"
     ]
    }
   ],
   "execution_count": 13
  },
  {
   "metadata": {},
   "cell_type": "code",
   "outputs": [],
   "execution_count": null,
   "source": "",
   "id": "ac66ade11d4a4a0d"
  }
 ],
 "metadata": {
  "kernelspec": {
   "display_name": "Python 3",
   "language": "python",
   "name": "python3"
  },
  "language_info": {
   "codemirror_mode": {
    "name": "ipython",
    "version": 2
   },
   "file_extension": ".py",
   "mimetype": "text/x-python",
   "name": "python",
   "nbconvert_exporter": "python",
   "pygments_lexer": "ipython2",
   "version": "2.7.6"
  }
 },
 "nbformat": 4,
 "nbformat_minor": 5
}
