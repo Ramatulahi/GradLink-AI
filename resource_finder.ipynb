{
 "cells": [
  {
   "cell_type": "code",
   "id": "initial_id",
   "metadata": {
    "collapsed": true,
    "ExecuteTime": {
     "end_time": "2025-05-21T10:42:25.163330Z",
     "start_time": "2025-05-21T10:42:25.152316Z"
    }
   },
   "source": [
    "from typing import Dict\n",
    "\n",
    "from keras.src.losses import cosine_similarity"
   ],
   "outputs": [],
   "execution_count": 1
  },
  {
   "metadata": {
    "ExecuteTime": {
     "end_time": "2025-05-21T10:48:21.785801Z",
     "start_time": "2025-05-21T10:48:21.777265Z"
    }
   },
   "cell_type": "code",
   "source": [
    "# Step 1: Define a dictionary of resources\n",
    "RESOURCE_DB = {\n",
    "    \"MAT201\": {\n",
    "        \"title\": \"Integral Calculus for Engineers\",\n",
    "        \"tags\": [\"integration\", \"calculus\", \"engineering math\"],\n",
    "        \"links\": [\"https://youtu.be/calculus1\", \"https://drive.link/integration-pdf\"]\n",
    "    },\n",
    "    \"PHY101\": {\n",
    "        \"title\": \"Mechanics Basics\",\n",
    "        \"tags\": [\"force\", \"motion\", \"kinematics\"],\n",
    "        \"links\": [\"https://youtu.be/mechanics\", \"https://pdf.link/mechanics\"]\n",
    "    },\n",
    "    \"CSC110\": {\n",
    "        \"title\": \"Intro to Programming\",\n",
    "        \"tags\": [\"python\", \"loops\", \"variables\"],\n",
    "        \"links\": [\"https://youtu.be/python\", \"https://docs.link/programming\"]\n",
    "    },\n",
    "}\n"
   ],
   "id": "f0e784d2b1220b97",
   "outputs": [],
   "execution_count": 8
  },
  {
   "metadata": {
    "ExecuteTime": {
     "end_time": "2025-05-21T10:48:25.076037Z",
     "start_time": "2025-05-21T10:48:25.063977Z"
    }
   },
   "cell_type": "code",
   "source": [
    "# Step 2: Create the function\n",
    "def get_resources(course_code: str) -> Dict[str, list]:\n",
    "    course_code = course_code.upper().strip()\n",
    "    return RESOURCE_DB.get(course_code, {\n",
    "        \"YouTube\": [],\n",
    "        \"PDFs\": [],\n",
    "        \"message\": f\"No resources found for {course_code}. Try another course.\"\n",
    "    })"
   ],
   "id": "d395992e7fb3b89e",
   "outputs": [],
   "execution_count": 9
  },
  {
   "metadata": {
    "ExecuteTime": {
     "end_time": "2025-05-21T10:49:27.010068Z",
     "start_time": "2025-05-21T10:49:21.301362Z"
    }
   },
   "cell_type": "code",
   "source": [
    "# Step 3: Demo/test run\n",
    "if __name__ == \"__main__\":\n",
    "    user_input = input(\"Enter course code (e.g., MAT201): \")\n",
    "    result = get_resources(user_input)\n",
    "    print(\"\\nResources Found:\\n\")\n",
    "    for key, links in result.items():\n",
    "        if isinstance(links, list):\n",
    "            print(f\"{key} Links:\")\n",
    "            for link in links:\n",
    "                print(f\" - {link}\")\n",
    "        else:\n",
    "            print(links)"
   ],
   "id": "3687684c70f74c8f",
   "outputs": [
    {
     "name": "stdout",
     "output_type": "stream",
     "text": [
      "\n",
      "Resources Found:\n",
      "\n",
      "Integral Calculus for Engineers\n",
      "tags Links:\n",
      " - integration\n",
      " - calculus\n",
      " - engineering math\n",
      "links Links:\n",
      " - https://youtu.be/calculus1\n",
      " - https://drive.link/integration-pdf\n"
     ]
    }
   ],
   "execution_count": 11
  },
  {
   "metadata": {
    "ExecuteTime": {
     "end_time": "2025-05-21T10:58:23.143840Z",
     "start_time": "2025-05-21T10:56:47.652075Z"
    }
   },
   "cell_type": "code",
   "source": "from sentence_transformers import SentenceTransformer",
   "id": "2d28a937b104e228",
   "outputs": [],
   "execution_count": 12
  },
  {
   "metadata": {
    "ExecuteTime": {
     "end_time": "2025-05-21T11:00:03.926603Z",
     "start_time": "2025-05-21T10:58:36.262216Z"
    }
   },
   "cell_type": "code",
   "source": "model = SentenceTransformer('all-MiniLM-L6-v2')",
   "id": "7868b34a58fd7ab2",
   "outputs": [
    {
     "data": {
      "text/plain": [
       "modules.json:   0%|          | 0.00/349 [00:00<?, ?B/s]"
      ],
      "application/vnd.jupyter.widget-view+json": {
       "version_major": 2,
       "version_minor": 0,
       "model_id": "c7d4c9614d8b4f188a090c7d346718f8"
      }
     },
     "metadata": {},
     "output_type": "display_data"
    },
    {
     "data": {
      "text/plain": [
       "config_sentence_transformers.json:   0%|          | 0.00/116 [00:00<?, ?B/s]"
      ],
      "application/vnd.jupyter.widget-view+json": {
       "version_major": 2,
       "version_minor": 0,
       "model_id": "5c58d2e8f0e04b5aa8b25bb6f4e1c83b"
      }
     },
     "metadata": {},
     "output_type": "display_data"
    },
    {
     "data": {
      "text/plain": [
       "README.md:   0%|          | 0.00/10.5k [00:00<?, ?B/s]"
      ],
      "application/vnd.jupyter.widget-view+json": {
       "version_major": 2,
       "version_minor": 0,
       "model_id": "8230e955e5614b6abe9fc90ae89d89de"
      }
     },
     "metadata": {},
     "output_type": "display_data"
    },
    {
     "data": {
      "text/plain": [
       "sentence_bert_config.json:   0%|          | 0.00/53.0 [00:00<?, ?B/s]"
      ],
      "application/vnd.jupyter.widget-view+json": {
       "version_major": 2,
       "version_minor": 0,
       "model_id": "b2fc759e1c684bb2bc1b57ce2e5f7d0c"
      }
     },
     "metadata": {},
     "output_type": "display_data"
    },
    {
     "data": {
      "text/plain": [
       "config.json:   0%|          | 0.00/612 [00:00<?, ?B/s]"
      ],
      "application/vnd.jupyter.widget-view+json": {
       "version_major": 2,
       "version_minor": 0,
       "model_id": "142a30227dce4087a90ec013b4ba5b7f"
      }
     },
     "metadata": {},
     "output_type": "display_data"
    },
    {
     "name": "stderr",
     "output_type": "stream",
     "text": [
      "Xet Storage is enabled for this repo, but the 'hf_xet' package is not installed. Falling back to regular HTTP download. For better performance, install the package with: `pip install huggingface_hub[hf_xet]` or `pip install hf_xet`\n"
     ]
    },
    {
     "data": {
      "text/plain": [
       "model.safetensors:   0%|          | 0.00/90.9M [00:00<?, ?B/s]"
      ],
      "application/vnd.jupyter.widget-view+json": {
       "version_major": 2,
       "version_minor": 0,
       "model_id": "e7c543a3f5554e55beb47460463791e0"
      }
     },
     "metadata": {},
     "output_type": "display_data"
    },
    {
     "data": {
      "text/plain": [
       "tokenizer_config.json:   0%|          | 0.00/350 [00:00<?, ?B/s]"
      ],
      "application/vnd.jupyter.widget-view+json": {
       "version_major": 2,
       "version_minor": 0,
       "model_id": "fbad44f11c064a9bbd149f7ecee997f8"
      }
     },
     "metadata": {},
     "output_type": "display_data"
    },
    {
     "data": {
      "text/plain": [
       "vocab.txt:   0%|          | 0.00/232k [00:00<?, ?B/s]"
      ],
      "application/vnd.jupyter.widget-view+json": {
       "version_major": 2,
       "version_minor": 0,
       "model_id": "47a6a8d042184b07bd8f4bb6e1713e1a"
      }
     },
     "metadata": {},
     "output_type": "display_data"
    },
    {
     "data": {
      "text/plain": [
       "tokenizer.json:   0%|          | 0.00/466k [00:00<?, ?B/s]"
      ],
      "application/vnd.jupyter.widget-view+json": {
       "version_major": 2,
       "version_minor": 0,
       "model_id": "4964a3f63ecf4a3b9888f7efb5f50b5a"
      }
     },
     "metadata": {},
     "output_type": "display_data"
    },
    {
     "data": {
      "text/plain": [
       "special_tokens_map.json:   0%|          | 0.00/112 [00:00<?, ?B/s]"
      ],
      "application/vnd.jupyter.widget-view+json": {
       "version_major": 2,
       "version_minor": 0,
       "model_id": "ccf2728b48c449b1a0ce178e8ccf0706"
      }
     },
     "metadata": {},
     "output_type": "display_data"
    },
    {
     "data": {
      "text/plain": [
       "config.json:   0%|          | 0.00/190 [00:00<?, ?B/s]"
      ],
      "application/vnd.jupyter.widget-view+json": {
       "version_major": 2,
       "version_minor": 0,
       "model_id": "b7e80a62955849819244222dacff7fdc"
      }
     },
     "metadata": {},
     "output_type": "display_data"
    }
   ],
   "execution_count": 13
  },
  {
   "metadata": {
    "ExecuteTime": {
     "end_time": "2025-05-21T11:06:42.150272Z",
     "start_time": "2025-05-21T11:06:42.136001Z"
    }
   },
   "cell_type": "code",
   "source": [
    "resource_texts = [\n",
    "    # 1. From a YouTube Video Title + Description (e.g., \"Intro to Programming with Python\")\n",
    "    \"Video: Learn Python from scratch! This tutorial covers variables, data types, control flow (loops, conditionals), and basic functions. Ideal for CSC101 and beginners.\",\n",
    "\n",
    "    # 2. From a PDF Lecture Note (e.g., \"Linear Algebra for Engineers\")\n",
    "    \"Lecture Notes: MAT201 - Introduction to Linear Algebra. Topics include vectors, matrices, determinants, eigenvalues, and eigenvectors. Essential for engineering and computer science students.\",\n",
    "\n",
    "    # 3. From a Past Question Document (e.g., \"CSC 411 - Operating Systems Exam Questions\")\n",
    "    \"Past Questions: CSC411 - Operating Systems. Previous exam questions on process management, memory allocation, deadlocks, and file systems. University of Ibadan, 2023.\",\n",
    "\n",
    "    # 4. From an Article/Blog Post (e.g., \"Career Paths in Data Science in Nigeria\")\n",
    "    \"Article: Exploring Data Science careers in Nigeria. Discusses skills needed: Python, R, machine learning, statistics. Roles like Data Analyst, ML Engineer, AI Specialist. Useful for students planning their future.\",\n",
    "\n",
    "    # 5. From a Course Outline (e.g., \"ECO305 - Principles of Econometrics\")\n",
    "    \"Course Outline: ECO305 - Principles of Econometrics. Covers regression analysis, hypothesis testing, time series analysis, and panel data. Prerequisite: Statistics.\",\n",
    "\n",
    "    # 6. From a Scholarship Opportunity Description\n",
    "    \"Scholarship Alert: Shell Undergraduate Scholarship for Nigerian Students. Eligibility: 200L, good academic standing, studying Engineering, Sciences, or Social Sciences. Apply online.\",\n",
    "\n",
    "    # 7. From a SIWES/Internship Guideline Document\n",
    "    \"SIWES Guide: Industrial Training (IT) guidelines for students. How to find placements, logbook requirements, report writing, and supervisor responsibilities. For all engineering and science departments.\",\n",
    "\n",
    "    # 8. From a Specific Book Chapter Summary (e.g., \"Calculus by James Stewart, Chapter 7\")\n",
    "    \"Textbook Chapter: Calculus I - Techniques of Integration. Methods: substitution, integration by parts, trigonometric integrals, partial fractions. For MAT102/103 students.\",\n",
    "\n",
    "    # 9. From a Departmental Handout on Research Project\n",
    "    \"Research Project Guide: Guidelines for final year projects. Topic selection, literature review, methodology, data analysis, ethical considerations. For all 400L students.\",\n",
    "\n",
    "    # 10. From a YouTube Video Transcript Snippet (e.g., a specific section on \"loops\")\n",
    "    \"Video Snippet: This part of the Python tutorial explains 'for' loops and 'while' loops with practical examples. Understanding iterative statements is key for programming logic.\"\n",
    "]"
   ],
   "id": "5a70964a9b891253",
   "outputs": [],
   "execution_count": 14
  },
  {
   "metadata": {
    "ExecuteTime": {
     "end_time": "2025-05-21T11:07:53.873491Z",
     "start_time": "2025-05-21T11:07:52.549253Z"
    }
   },
   "cell_type": "code",
   "source": "resource_embeddings = model.encode(resource_texts, convert_to_tensor=True)",
   "id": "33b0564515eaf11",
   "outputs": [],
   "execution_count": 15
  },
  {
   "metadata": {
    "ExecuteTime": {
     "end_time": "2025-05-21T11:08:31.976709Z",
     "start_time": "2025-05-21T11:08:31.965033Z"
    }
   },
   "cell_type": "code",
   "source": "resource_embeddings.shape",
   "id": "c1b3dd51e8864462",
   "outputs": [
    {
     "data": {
      "text/plain": [
       "torch.Size([10, 384])"
      ]
     },
     "execution_count": 18,
     "metadata": {},
     "output_type": "execute_result"
    }
   ],
   "execution_count": 18
  },
  {
   "metadata": {
    "ExecuteTime": {
     "end_time": "2025-05-21T11:09:32.329713Z",
     "start_time": "2025-05-21T11:09:32.316370Z"
    }
   },
   "cell_type": "code",
   "source": "resource_embeddings[0][:5]",
   "id": "cc5ab6ff071d0bbd",
   "outputs": [
    {
     "data": {
      "text/plain": [
       "tensor([-0.0816, -0.0238, -0.0686,  0.0283, -0.0629])"
      ]
     },
     "execution_count": 20,
     "metadata": {},
     "output_type": "execute_result"
    }
   ],
   "execution_count": 20
  },
  {
   "metadata": {
    "ExecuteTime": {
     "end_time": "2025-05-21T11:30:43.013015Z",
     "start_time": "2025-05-21T11:30:43.005892Z"
    }
   },
   "cell_type": "code",
   "source": [
    "from torch.nn.functional import cosine_similarity\n",
    "from scipy.spatial.distance import cosine"
   ],
   "id": "5ccdc807d791bcc8",
   "outputs": [],
   "execution_count": 30
  },
  {
   "metadata": {
    "ExecuteTime": {
     "end_time": "2025-05-21T11:33:35.645917Z",
     "start_time": "2025-05-21T11:33:24.960126Z"
    }
   },
   "cell_type": "code",
   "source": [
    "while True:\n",
    "    user_input = input(\"Enter your query\")\n",
    "    \n",
    "    if user_input == \"exit\":\n",
    "        print(\"Exiting...\")\n",
    "        break\n",
    "    \n",
    "    query_embedding = model.encode(user_input, convert_to_tensor=True)\n",
    "    \n",
    "    similarities = cosine_similarity(query_embedding, resource_embeddings)\n",
    "    \n",
    "    top_n = 3\n",
    "    top_indices = similarities.argsort(descending=True)[:top_n].cpu().numpy()\n",
    "\n",
    "    print(f\"\\nTop {top_n} resources for your query: '{user_input}'\")\n",
    "    print(\"--------------------------------------------------\")\n",
    "    \n",
    "    \n",
    "    for i, idx in enumerate(top_indices):\n",
    "        score = similarities[idx].item() # .item() gets the scalar value from the tensor\n",
    "        print(f\"Rank {i+1} (Similarity: {score:.4f}):\")\n",
    "        print(f\"  Resource Text: {resource_texts[idx]}\")\n",
    "        # In a real app, you'd show a link/title instead of the full text\n",
    "        print(\"-\" * 40)\n",
    "    print(\"\\n\")"
   ],
   "id": "d2497b6e7853038f",
   "outputs": [
    {
     "name": "stdout",
     "output_type": "stream",
     "text": [
      "\n",
      "Top 3 resources for your query: 'data science'\n",
      "--------------------------------------------------\n",
      "Rank 1 (Similarity: 0.5425):\n",
      "  Resource Text: Article: Exploring Data Science careers in Nigeria. Discusses skills needed: Python, R, machine learning, statistics. Roles like Data Analyst, ML Engineer, AI Specialist. Useful for students planning their future.\n",
      "----------------------------------------\n",
      "Rank 2 (Similarity: 0.3661):\n",
      "  Resource Text: Video: Learn Python from scratch! This tutorial covers variables, data types, control flow (loops, conditionals), and basic functions. Ideal for CSC101 and beginners.\n",
      "----------------------------------------\n",
      "Rank 3 (Similarity: 0.2973):\n",
      "  Resource Text: Past Questions: CSC411 - Operating Systems. Previous exam questions on process management, memory allocation, deadlocks, and file systems. University of Ibadan, 2023.\n",
      "----------------------------------------\n",
      "\n",
      "\n",
      "Exiting...\n"
     ]
    }
   ],
   "execution_count": 33
  },
  {
   "metadata": {},
   "cell_type": "code",
   "outputs": [],
   "execution_count": null,
   "source": "",
   "id": "ac66ade11d4a4a0d"
  }
 ],
 "metadata": {
  "kernelspec": {
   "display_name": "Python 3",
   "language": "python",
   "name": "python3"
  },
  "language_info": {
   "codemirror_mode": {
    "name": "ipython",
    "version": 2
   },
   "file_extension": ".py",
   "mimetype": "text/x-python",
   "name": "python",
   "nbconvert_exporter": "python",
   "pygments_lexer": "ipython2",
   "version": "2.7.6"
  }
 },
 "nbformat": 4,
 "nbformat_minor": 5
}
